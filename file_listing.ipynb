{
 "cells": [
  {
   "cell_type": "code",
   "execution_count": 1,
   "metadata": {
    "collapsed": false
   },
   "outputs": [
    {
     "name": "stdout",
     "output_type": "stream",
     "text": [
      "Found directory: .\n",
      "\tdelta.latest.mdf\n",
      "\tlatest.mdf\n",
      "\tmeteo.py\n",
      "\tnotebook.py\n",
      "\tUntitled.ipynb\n",
      "Found directory: ./.git\n",
      "\tCOMMIT_EDITMSG\n",
      "\tconfig\n",
      "\tdescription\n",
      "\tFETCH_HEAD\n",
      "\tHEAD\n",
      "\tindex\n",
      "\tORIG_HEAD\n",
      "Found directory: ./.git/branches\n",
      "Found directory: ./.git/hooks\n",
      "\tapplypatch-msg.sample\n",
      "\tcommit-msg.sample\n",
      "\tpost-update.sample\n",
      "\tpre-applypatch.sample\n",
      "\tpre-commit.sample\n",
      "\tpre-rebase.sample\n",
      "\tprepare-commit-msg.sample\n",
      "\tupdate.sample\n",
      "Found directory: ./.git/info\n",
      "\texclude\n",
      "Found directory: ./.git/logs\n",
      "\tHEAD\n",
      "Found directory: ./.git/logs/refs\n",
      "Found directory: ./.git/logs/refs/heads\n",
      "\tmaster\n",
      "Found directory: ./.git/logs/refs/remotes\n",
      "Found directory: ./.git/logs/refs/remotes/origin\n",
      "\tgenfrom\n",
      "\tmaster\n",
      "Found directory: ./.git/objects\n",
      "Found directory: ./.git/objects/02\n",
      "\td8d56ac0ac43d5b26ad6e014e03a13cbe14c70\n",
      "Found directory: ./.git/objects/07\n",
      "\t9108e8c7e6a064fc84237ddab68d5317681f86\n",
      "Found directory: ./.git/objects/08\n",
      "\t406f24c7aee051994a183f4526e11455097b59\n",
      "\t49cfabbd2a46b360202d7298b490f168274252\n",
      "Found directory: ./.git/objects/27\n",
      "\t9d1c4a1f9bdab48afc038f401abf4146a5ef18\n",
      "Found directory: ./.git/objects/28\n",
      "\t38a98e5232a82d361f1eaedefd05d8c5ec383c\n",
      "Found directory: ./.git/objects/2a\n",
      "\t2ea219ed0b3930a0ae1506a5de4ec39b976a75\n",
      "Found directory: ./.git/objects/30\n",
      "\t45ea9e9d865ceb7f4aeae4c64696337d10686c\n",
      "Found directory: ./.git/objects/31\n",
      "\tb2a58f7f861bd23035423ce79d728fa41e55fb\n",
      "Found directory: ./.git/objects/3a\n",
      "\td6213206414f742666b8c457b1f1b8315e8530\n",
      "Found directory: ./.git/objects/3d\n",
      "\t212e5bbfdb8c1907d1af6c2af23bc9e82f6955\n",
      "Found directory: ./.git/objects/3f\n",
      "\t7d8d8534a3dce85d55f5937093b58ca092611a\n",
      "Found directory: ./.git/objects/45\n",
      "\t5d5ce74ff2b9d72eca7d37bd9dcad39dcfe8fb\n",
      "Found directory: ./.git/objects/4c\n",
      "\t569624a8dcb35dc9f48487c72bb4aeaf68eeac\n",
      "Found directory: ./.git/objects/53\n",
      "\tf0da065072422d22dd7b6194028ca63fc03259\n",
      "Found directory: ./.git/objects/56\n",
      "\t8ec0d06025a25c2e6e47a54c64541840aff33f\n",
      "Found directory: ./.git/objects/5e\n",
      "\t20c8997d45969751e7e2e27ff9eb2191f00db4\n",
      "Found directory: ./.git/objects/6d\n",
      "\t1900fc8f6de3e8927e0f40ebab6154fd36edbd\n",
      "Found directory: ./.git/objects/75\n",
      "\tef081f247e2545f58038d7cd2f3e14dad21939\n",
      "Found directory: ./.git/objects/8f\n",
      "\t622300679746f3a88b55acb861411db40289e1\n",
      "Found directory: ./.git/objects/95\n",
      "\tbe4b879bb761e4d2b685011248d70cfc2b991b\n",
      "Found directory: ./.git/objects/99\n",
      "\tbfadc82113610395360273829d6cbf0dc319fb\n",
      "\tebefd9680f2fff18aed751f63b94d02ac0ee6e\n",
      "Found directory: ./.git/objects/9e\n",
      "\tafdd5993ec68c49128a1d4ac4416e34a61ddf7\n",
      "Found directory: ./.git/objects/a1\n",
      "\t536cf30c548cc4b6df23413e6ba1320c35552a\n",
      "Found directory: ./.git/objects/a5\n",
      "\t57ba96862d0d1ef6477b020db60fc0be1b4198\n",
      "Found directory: ./.git/objects/a6\n",
      "\t71c044be687cc2a61e109f878141771aabbacd\n",
      "Found directory: ./.git/objects/ae\n",
      "\t330aca568f115f0abfc57ab43f638649a6ac8d\n",
      "Found directory: ./.git/objects/b9\n",
      "\t870977d0f296dae031cba963e32d61d52956e2\n",
      "Found directory: ./.git/objects/ba\n",
      "\t127006227a770eb1e0f5d1d3a1bf916893ad5e\n",
      "\tc3736c97b5ae4bc3470ad894512dad133188ea\n",
      "Found directory: ./.git/objects/bf\n",
      "\te5e19ffe49522b3b0dc34d8c335c984302653f\n",
      "Found directory: ./.git/objects/ce\n",
      "\t17f9d664754bde2d06a643cd860439f8756334\n",
      "Found directory: ./.git/objects/da\n",
      "\t716a2347b582fb248ac4064f5f750abbc4c548\n",
      "Found directory: ./.git/objects/e8\n",
      "\t552da8b3eeba75b01efa39eb83e507dc861c45\n",
      "Found directory: ./.git/objects/fd\n",
      "\t35bdfaec4b16c415116d6a492c9a425c6dd8c0\n",
      "Found directory: ./.git/objects/info\n",
      "Found directory: ./.git/objects/pack\n",
      "Found directory: ./.git/refs\n",
      "Found directory: ./.git/refs/heads\n",
      "\tmaster\n",
      "Found directory: ./.git/refs/remotes\n",
      "Found directory: ./.git/refs/remotes/origin\n",
      "\tgenfrom\n",
      "\tmaster\n",
      "Found directory: ./.git/refs/tags\n",
      "Found directory: ./.ipynb_checkpoints\n",
      "\tUntitled-checkpoint.ipynb\n",
      "Found directory: ./data\n",
      "\t20120229nrmn.mts\n",
      "\t20120229nrmn_partial.mts\n",
      "\t20120301nrmn.mts\n",
      "\t20120302nrmn.mts\n",
      "\t20120317nrmn.mts\n",
      "\t20120319nrmn.mts\n",
      "\ttest.mts\n"
     ]
    }
   ],
   "source": [
    "# Import the os module, for the os.walk function\n",
    "import os\n",
    " \n",
    "# Set the directory you want to start from\n",
    "rootDir = '.'\n",
    "for dirName, subdirList, fileList in os.walk(rootDir):\n",
    "    print('Found directory: %s' % dirName)\n",
    "    for fname in fileList:\n",
    "        print('\\t%s' % fname)\n"
   ]
  },
  {
   "cell_type": "markdown",
   "metadata": {},
   "source": [
    "----"
   ]
  },
  {
   "cell_type": "code",
   "execution_count": 5,
   "metadata": {
    "collapsed": false
   },
   "outputs": [
    {
     "name": "stdout",
     "output_type": "stream",
     "text": [
      "Found directory: ./data\n",
      "\t20120229nrmn.mts\n",
      "\t20120229nrmn_partial.mts\n",
      "\t20120301nrmn.mts\n",
      "\t20120302nrmn.mts\n",
      "\t20120317nrmn.mts\n",
      "\t20120319nrmn.mts\n",
      "\ttest.mts\n"
     ]
    }
   ],
   "source": [
    "# Set the directory you want to start from\n",
    "rootDir = '.'\n",
    "\n",
    "for dirName, subdirList, fileList in os.walk(rootDir):\n",
    "    if dirName == './data':\n",
    "        print('Found directory: %s' % dirName)\n",
    "        for fname in fileList:\n",
    "            print('\\t%s' % fname)\n",
    "            "
   ]
  },
  {
   "cell_type": "markdown",
   "metadata": {},
   "source": [
    "____"
   ]
  },
  {
   "cell_type": "code",
   "execution_count": 12,
   "metadata": {
    "collapsed": false
   },
   "outputs": [
    {
     "name": "stdout",
     "output_type": "stream",
     "text": [
      "./.git\n",
      "./.ipynb_checkpoints\n",
      "./data\n",
      "./delta.latest.mdf\n",
      "./latest.mdf\n",
      "./meteo.py\n",
      "./notebook.py\n",
      "./Untitled.ipynb\n",
      "./.ipynb_checkpoints/Untitled-checkpoint.ipynb\n",
      "./data/20120229nrmn.mts\n",
      "./data/20120229nrmn_partial.mts\n",
      "./data/20120301nrmn.mts\n",
      "./data/20120302nrmn.mts\n",
      "./data/20120317nrmn.mts\n",
      "./data/20120319nrmn.mts\n",
      "./data/test.mts\n"
     ]
    }
   ],
   "source": [
    "import os\n",
    "\n",
    "for dirname, dirnames, filenames in os.walk('.'):\n",
    "    # print path to all subdirectories first.\n",
    "    for subdirname in dirnames:\n",
    "        print(os.path.join(dirname, subdirname))\n",
    "\n",
    "    # print path to all filenames.\n",
    "    for filename in filenames:\n",
    "        print(os.path.join(dirname, filename))\n",
    "\n",
    "    # Advanced usage:\n",
    "    # editing the 'dirnames' list will stop os.walk() from recursing into there.\n",
    "    if '.git' in dirnames:\n",
    "        # don't go into any .git directories.\n",
    "        dirnames.remove('.git')"
   ]
  },
  {
   "cell_type": "code",
   "execution_count": 9,
   "metadata": {
    "collapsed": false
   },
   "outputs": [
    {
     "name": "stdout",
     "output_type": "stream",
     "text": [
      "[]\n"
     ]
    }
   ],
   "source": [
    "print (dirnames)"
   ]
  },
  {
   "cell_type": "code",
   "execution_count": 13,
   "metadata": {
    "collapsed": false
   },
   "outputs": [
    {
     "name": "stdout",
     "output_type": "stream",
     "text": [
      "./.git\n",
      "./.ipynb_checkpoints\n",
      "./data\n",
      "./delta.latest.mdf\n",
      "./latest.mdf\n",
      "./meteo.py\n",
      "./notebook.py\n",
      "./Untitled.ipynb\n",
      "./.git/branches\n",
      "./.git/hooks\n",
      "./.git/info\n",
      "./.git/logs\n",
      "./.git/objects\n",
      "./.git/refs\n",
      "./.git/COMMIT_EDITMSG\n",
      "./.git/config\n",
      "./.git/description\n",
      "./.git/FETCH_HEAD\n",
      "./.git/HEAD\n",
      "./.git/index\n",
      "./.git/ORIG_HEAD\n",
      "./.git/hooks/applypatch-msg.sample\n",
      "./.git/hooks/commit-msg.sample\n",
      "./.git/hooks/post-update.sample\n",
      "./.git/hooks/pre-applypatch.sample\n",
      "./.git/hooks/pre-commit.sample\n",
      "./.git/hooks/pre-rebase.sample\n",
      "./.git/hooks/prepare-commit-msg.sample\n",
      "./.git/hooks/update.sample\n",
      "./.git/info/exclude\n",
      "./.git/logs/refs\n",
      "./.git/logs/HEAD\n",
      "./.git/logs/refs/heads\n",
      "./.git/logs/refs/remotes\n",
      "./.git/logs/refs/heads/master\n",
      "./.git/logs/refs/remotes/origin\n",
      "./.git/logs/refs/remotes/origin/genfrom\n",
      "./.git/logs/refs/remotes/origin/master\n",
      "./.git/objects/02\n",
      "./.git/objects/07\n",
      "./.git/objects/08\n",
      "./.git/objects/27\n",
      "./.git/objects/28\n",
      "./.git/objects/2a\n",
      "./.git/objects/30\n",
      "./.git/objects/31\n",
      "./.git/objects/3a\n",
      "./.git/objects/3d\n",
      "./.git/objects/3f\n",
      "./.git/objects/45\n",
      "./.git/objects/4c\n",
      "./.git/objects/53\n",
      "./.git/objects/56\n",
      "./.git/objects/5e\n",
      "./.git/objects/6d\n",
      "./.git/objects/75\n",
      "./.git/objects/8f\n",
      "./.git/objects/95\n",
      "./.git/objects/99\n",
      "./.git/objects/9e\n",
      "./.git/objects/a1\n",
      "./.git/objects/a5\n",
      "./.git/objects/a6\n",
      "./.git/objects/ae\n",
      "./.git/objects/b9\n",
      "./.git/objects/ba\n",
      "./.git/objects/bf\n",
      "./.git/objects/ce\n",
      "./.git/objects/da\n",
      "./.git/objects/e8\n",
      "./.git/objects/fd\n",
      "./.git/objects/info\n",
      "./.git/objects/pack\n",
      "./.git/objects/02/d8d56ac0ac43d5b26ad6e014e03a13cbe14c70\n",
      "./.git/objects/07/9108e8c7e6a064fc84237ddab68d5317681f86\n",
      "./.git/objects/08/406f24c7aee051994a183f4526e11455097b59\n",
      "./.git/objects/08/49cfabbd2a46b360202d7298b490f168274252\n",
      "./.git/objects/27/9d1c4a1f9bdab48afc038f401abf4146a5ef18\n",
      "./.git/objects/28/38a98e5232a82d361f1eaedefd05d8c5ec383c\n",
      "./.git/objects/2a/2ea219ed0b3930a0ae1506a5de4ec39b976a75\n",
      "./.git/objects/30/45ea9e9d865ceb7f4aeae4c64696337d10686c\n",
      "./.git/objects/31/b2a58f7f861bd23035423ce79d728fa41e55fb\n",
      "./.git/objects/3a/d6213206414f742666b8c457b1f1b8315e8530\n",
      "./.git/objects/3d/212e5bbfdb8c1907d1af6c2af23bc9e82f6955\n",
      "./.git/objects/3f/7d8d8534a3dce85d55f5937093b58ca092611a\n",
      "./.git/objects/45/5d5ce74ff2b9d72eca7d37bd9dcad39dcfe8fb\n",
      "./.git/objects/4c/569624a8dcb35dc9f48487c72bb4aeaf68eeac\n",
      "./.git/objects/53/f0da065072422d22dd7b6194028ca63fc03259\n",
      "./.git/objects/56/8ec0d06025a25c2e6e47a54c64541840aff33f\n",
      "./.git/objects/5e/20c8997d45969751e7e2e27ff9eb2191f00db4\n",
      "./.git/objects/6d/1900fc8f6de3e8927e0f40ebab6154fd36edbd\n",
      "./.git/objects/75/ef081f247e2545f58038d7cd2f3e14dad21939\n",
      "./.git/objects/8f/622300679746f3a88b55acb861411db40289e1\n",
      "./.git/objects/95/be4b879bb761e4d2b685011248d70cfc2b991b\n",
      "./.git/objects/99/bfadc82113610395360273829d6cbf0dc319fb\n",
      "./.git/objects/99/ebefd9680f2fff18aed751f63b94d02ac0ee6e\n",
      "./.git/objects/9e/afdd5993ec68c49128a1d4ac4416e34a61ddf7\n",
      "./.git/objects/a1/536cf30c548cc4b6df23413e6ba1320c35552a\n",
      "./.git/objects/a5/57ba96862d0d1ef6477b020db60fc0be1b4198\n",
      "./.git/objects/a6/71c044be687cc2a61e109f878141771aabbacd\n",
      "./.git/objects/ae/330aca568f115f0abfc57ab43f638649a6ac8d\n",
      "./.git/objects/b9/870977d0f296dae031cba963e32d61d52956e2\n",
      "./.git/objects/ba/127006227a770eb1e0f5d1d3a1bf916893ad5e\n",
      "./.git/objects/ba/c3736c97b5ae4bc3470ad894512dad133188ea\n",
      "./.git/objects/bf/e5e19ffe49522b3b0dc34d8c335c984302653f\n",
      "./.git/objects/ce/17f9d664754bde2d06a643cd860439f8756334\n",
      "./.git/objects/da/716a2347b582fb248ac4064f5f750abbc4c548\n",
      "./.git/objects/e8/552da8b3eeba75b01efa39eb83e507dc861c45\n",
      "./.git/objects/fd/35bdfaec4b16c415116d6a492c9a425c6dd8c0\n",
      "./.git/refs/heads\n",
      "./.git/refs/remotes\n",
      "./.git/refs/tags\n",
      "./.git/refs/heads/master\n",
      "./.git/refs/remotes/origin\n",
      "./.git/refs/remotes/origin/genfrom\n",
      "./.git/refs/remotes/origin/master\n",
      "./.ipynb_checkpoints/Untitled-checkpoint.ipynb\n",
      "./data/20120229nrmn.mts\n",
      "./data/20120229nrmn_partial.mts\n",
      "./data/20120301nrmn.mts\n",
      "./data/20120302nrmn.mts\n",
      "./data/20120317nrmn.mts\n",
      "./data/20120319nrmn.mts\n",
      "./data/test.mts\n"
     ]
    }
   ],
   "source": [
    "import os\n",
    "\n",
    "for dirname, dirnames, filenames in os.walk('.'):\n",
    "    # print path to all subdirectories first.\n",
    "    for subdirname in dirnames:\n",
    "        print(os.path.join(dirname, subdirname))\n",
    "\n",
    "    # print path to all filenames.\n",
    "    for filename in filenames:\n",
    "        print(os.path.join(dirname, filename))\n"
   ]
  },
  {
   "cell_type": "code",
   "execution_count": 14,
   "metadata": {
    "collapsed": false
   },
   "outputs": [
    {
     "data": {
      "text/plain": [
       "list"
      ]
     },
     "execution_count": 14,
     "metadata": {},
     "output_type": "execute_result"
    }
   ],
   "source": [
    "type(dirnames)"
   ]
  },
  {
   "cell_type": "code",
   "execution_count": 15,
   "metadata": {
    "collapsed": false
   },
   "outputs": [
    {
     "ename": "SyntaxError",
     "evalue": "unexpected EOF while parsing (<ipython-input-15-3008cf2e21e1>, line 3)",
     "output_type": "error",
     "traceback": [
      "\u001b[0;36m  File \u001b[0;32m\"<ipython-input-15-3008cf2e21e1>\"\u001b[0;36m, line \u001b[0;32m3\u001b[0m\n\u001b[0;31m    for dirname, dirnames, filenames in os.walk('.'):\u001b[0m\n\u001b[0m                                                     ^\u001b[0m\n\u001b[0;31mSyntaxError\u001b[0m\u001b[0;31m:\u001b[0m unexpected EOF while parsing\n"
     ]
    }
   ],
   "source": [
    "import os\n",
    "\n",
    "for dirname, dirnames, filenames in os.walk('.'):\n",
    "    "
   ]
  },
  {
   "cell_type": "code",
   "execution_count": null,
   "metadata": {
    "collapsed": true
   },
   "outputs": [],
   "source": []
  }
 ],
 "metadata": {
  "kernelspec": {
   "display_name": "Python 3",
   "language": "python",
   "name": "python3"
  },
  "language_info": {
   "codemirror_mode": {
    "name": "ipython",
    "version": 3
   },
   "file_extension": ".py",
   "mimetype": "text/x-python",
   "name": "python",
   "nbconvert_exporter": "python",
   "pygments_lexer": "ipython3",
   "version": "3.4.4"
  }
 },
 "nbformat": 4,
 "nbformat_minor": 0
}
